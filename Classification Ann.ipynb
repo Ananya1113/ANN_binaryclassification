{
 "cells": [
  {
   "cell_type": "code",
   "execution_count": 123,
   "id": "995cc926-9dad-4170-8c65-d6ffcc9623d1",
   "metadata": {},
   "outputs": [],
   "source": [
    "# Step 3: Importing Libraries\n",
    "import tensorflow as tf\n",
    "from tensorflow import keras\n",
    "import numpy as np\n",
    "import pandas as pd\n",
    "import matplotlib.pyplot as plt\n",
    "import seaborn as sns\n",
    "\n",
    "from sklearn.model_selection import train_test_split\n",
    "from sklearn.datasets import fetch_california_housing\n",
    "from sklearn.preprocessing import StandardScaler\n",
    "from sklearn.preprocessing import OneHotEncoder"
   ]
  },
  {
   "cell_type": "raw",
   "id": "8a66be15-8bb1-4902-978a-2d4fdf93bfb5",
   "metadata": {},
   "source": [
    "# Explanation:\n",
    "\n",
    "1. pandas → For loading & processing datasets (tables, CSV files).\n",
    "\n",
    "2. numpy → For mathematical operations & handling arrays.\n",
    "\n",
    "3. matplotlib.pyplot & seaborn → For making graphs & visualizations."
   ]
  },
  {
   "cell_type": "code",
   "execution_count": 124,
   "id": "92302039-fda9-4954-ba5c-a6920ece47a0",
   "metadata": {},
   "outputs": [],
   "source": [
    "# Step 2: Load dataset\n",
    "df = pd.read_csv(r\"C:\\Users\\anany\\Downloads\\2nd sem Shailendra sir class pdf\\Data sets\\Cabs_Cancel.csv\" )"
   ]
  },
  {
   "cell_type": "raw",
   "id": "622bd46d-18da-4c86-b34b-16279ce2cb08",
   "metadata": {},
   "source": [
    "# Explanation:\n",
    "\n",
    "1. pd.read_csv(...) → Reads a CSV file into a DataFrame (a table-like structure).\n",
    "\n",
    "2. .head() → Shows the first 5 rows so we can get a quick look."
   ]
  },
  {
   "cell_type": "code",
   "execution_count": 125,
   "id": "e8028a4a-5bf1-4aba-86b5-4ef85035caf1",
   "metadata": {},
   "outputs": [
    {
     "name": "stdout",
     "output_type": "stream",
     "text": [
      "<class 'pandas.core.frame.DataFrame'>\n",
      "RangeIndex: 5000 entries, 0 to 4999\n",
      "Data columns (total 15 columns):\n",
      " #   Column               Non-Null Count  Dtype  \n",
      "---  ------               --------------  -----  \n",
      " 0   id                   5000 non-null   int64  \n",
      " 1   user_id              5000 non-null   int64  \n",
      " 2   vehicle_model_id     5000 non-null   int64  \n",
      " 3   travel_type_id       5000 non-null   int64  \n",
      " 4   from_area_id         4995 non-null   float64\n",
      " 5   to_area_id           4142 non-null   float64\n",
      " 6   date_travel          5000 non-null   object \n",
      " 7   online_booking       5000 non-null   int64  \n",
      " 8   mobile_site_booking  5000 non-null   int64  \n",
      " 9   booking_created      5000 non-null   object \n",
      " 10  from_lat             4994 non-null   float64\n",
      " 11  from_long            4994 non-null   float64\n",
      " 12  to_lat               4142 non-null   float64\n",
      " 13  to_long              4142 non-null   float64\n",
      " 14  Car_Cancellation     5000 non-null   int64  \n",
      "dtypes: float64(6), int64(7), object(2)\n",
      "memory usage: 586.1+ KB\n",
      "None\n"
     ]
    }
   ],
   "source": [
    "# Step 3: EDA\n",
    "print(df.info())"
   ]
  },
  {
   "cell_type": "code",
   "execution_count": 126,
   "id": "ff096af3-34b5-4d90-bd3e-f95aade9c642",
   "metadata": {},
   "outputs": [
    {
     "name": "stdout",
     "output_type": "stream",
     "text": [
      "       id  user_id  vehicle_model_id  travel_type_id  from_area_id  \\\n",
      "0  149748    26873                12               2        1095.0   \n",
      "1  183456    33100                12               2        1226.0   \n",
      "2  176071    41879                12               2         571.0   \n",
      "3  182410    41512                12               2        1070.0   \n",
      "4  183998    47731                12               2         142.0   \n",
      "\n",
      "   to_area_id       date_travel  online_booking  mobile_site_booking  \\\n",
      "0      1061.0    5/18/2013 7:30               1                    0   \n",
      "1      1259.0    11/07/13 15:45               1                    0   \n",
      "2       625.0   9/28/2013 17:30               1                    0   \n",
      "3       934.0  11/25/2013 17:00               0                    0   \n",
      "4       393.0     11/11/13 5:00               1                    0   \n",
      "\n",
      "    booking_created   from_lat  from_long     to_lat    to_long  \\\n",
      "0   5/17/2013 21:31  12.924150  77.672290  12.924878  77.566255   \n",
      "1     11/07/13 7:44  13.015080  77.677960  12.911942  77.651582   \n",
      "2   9/28/2013 15:50  12.951850  77.696420  12.954310  77.655300   \n",
      "3  10/31/2013 12:13  12.926098  77.681121  12.923230  77.592030   \n",
      "4    11/10/13 21:50  12.912810  77.609230  13.199560  77.706880   \n",
      "\n",
      "   Car_Cancellation  \n",
      "0                 1  \n",
      "1                 1  \n",
      "2                 1  \n",
      "3                 1  \n",
      "4                 1  \n"
     ]
    }
   ],
   "source": [
    "print(df.head())"
   ]
  },
  {
   "cell_type": "code",
   "execution_count": 127,
   "id": "edfcc8ed-baeb-46e6-9010-c7b70304c044",
   "metadata": {},
   "outputs": [
    {
     "name": "stdout",
     "output_type": "stream",
     "text": [
      "                 id       user_id  vehicle_model_id  travel_type_id  \\\n",
      "count    5000.00000   5000.000000       5000.000000     5000.000000   \n",
      "mean   162031.49560  32034.526200         24.021000        2.122000   \n",
      "std     15671.23646  11139.383766         25.875202        0.395913   \n",
      "min    132522.00000     16.000000         10.000000        1.000000   \n",
      "25%    148816.75000  25925.250000         12.000000        2.000000   \n",
      "50%    162937.00000  32599.000000         12.000000        2.000000   \n",
      "75%    176840.00000  41218.500000         12.000000        2.000000   \n",
      "max    185932.00000  48724.000000         91.000000        3.000000   \n",
      "\n",
      "       from_area_id   to_area_id  online_booking  mobile_site_booking  \\\n",
      "count   4995.000000  4142.000000     5000.000000          5000.000000   \n",
      "mean     713.349550   701.234669        0.448800             0.063600   \n",
      "std      427.830665   415.885485        0.497421             0.244063   \n",
      "min        2.000000     6.000000        0.000000             0.000000   \n",
      "25%      363.000000   393.000000        0.000000             0.000000   \n",
      "50%      590.000000   585.000000        0.000000             0.000000   \n",
      "75%     1096.000000  1084.000000        1.000000             0.000000   \n",
      "max     1401.000000  1403.000000        1.000000             1.000000   \n",
      "\n",
      "          from_lat    from_long       to_lat      to_long  Car_Cancellation  \n",
      "count  4994.000000  4994.000000  4142.000000  4142.000000       5000.000000  \n",
      "mean     12.974598    77.639772    13.008439    77.632401          0.400000  \n",
      "std       0.083408     0.059765     0.103605     0.062363          0.489947  \n",
      "min      12.776630    77.386930    12.776630    77.386930          0.000000  \n",
      "25%      12.924150    77.598290    12.938230    77.579140          0.000000  \n",
      "50%      12.965190    77.644580    12.976770    77.622890          0.000000  \n",
      "75%      12.996820    77.691830    13.028530    77.697980          1.000000  \n",
      "max      13.366072    77.786420    13.366072    77.786420          1.000000  \n"
     ]
    }
   ],
   "source": [
    "print(df.describe())"
   ]
  },
  {
   "cell_type": "raw",
   "id": "e63b413d-bb59-45c2-a1d9-27eebe0cdf73",
   "metadata": {},
   "source": [
    "# Explanation:\n",
    "\n",
    "1. .info() → Shows the column names, data types, and number of non-missing values.\n",
    "\n",
    "2. .describe() → Gives basic statistics like mean, min, max.\n",
    "\n",
    "3. .isnull().sum() → Tells how many missing values each column has."
   ]
  },
  {
   "cell_type": "markdown",
   "id": "e57e7fce-9336-43f0-abca-38ae0e860c8f",
   "metadata": {},
   "source": [
    "# Concept:\n",
    "We check data types and missing values early, because they decide how we clean/prepare the data."
   ]
  },
  {
   "cell_type": "code",
   "execution_count": 128,
   "id": "0582e46f-1e84-4ce2-ab54-27f3c66dc9ff",
   "metadata": {},
   "outputs": [
    {
     "data": {
      "text/html": [
       "<div>\n",
       "<style scoped>\n",
       "    .dataframe tbody tr th:only-of-type {\n",
       "        vertical-align: middle;\n",
       "    }\n",
       "\n",
       "    .dataframe tbody tr th {\n",
       "        vertical-align: top;\n",
       "    }\n",
       "\n",
       "    .dataframe thead th {\n",
       "        text-align: right;\n",
       "    }\n",
       "</style>\n",
       "<table border=\"1\" class=\"dataframe\">\n",
       "  <thead>\n",
       "    <tr style=\"text-align: right;\">\n",
       "      <th></th>\n",
       "      <th>0</th>\n",
       "    </tr>\n",
       "  </thead>\n",
       "  <tbody>\n",
       "    <tr>\n",
       "      <th>id</th>\n",
       "      <td>0</td>\n",
       "    </tr>\n",
       "    <tr>\n",
       "      <th>user_id</th>\n",
       "      <td>0</td>\n",
       "    </tr>\n",
       "    <tr>\n",
       "      <th>vehicle_model_id</th>\n",
       "      <td>0</td>\n",
       "    </tr>\n",
       "    <tr>\n",
       "      <th>travel_type_id</th>\n",
       "      <td>0</td>\n",
       "    </tr>\n",
       "    <tr>\n",
       "      <th>from_area_id</th>\n",
       "      <td>5</td>\n",
       "    </tr>\n",
       "    <tr>\n",
       "      <th>to_area_id</th>\n",
       "      <td>858</td>\n",
       "    </tr>\n",
       "    <tr>\n",
       "      <th>date_travel</th>\n",
       "      <td>0</td>\n",
       "    </tr>\n",
       "    <tr>\n",
       "      <th>online_booking</th>\n",
       "      <td>0</td>\n",
       "    </tr>\n",
       "    <tr>\n",
       "      <th>mobile_site_booking</th>\n",
       "      <td>0</td>\n",
       "    </tr>\n",
       "    <tr>\n",
       "      <th>booking_created</th>\n",
       "      <td>0</td>\n",
       "    </tr>\n",
       "    <tr>\n",
       "      <th>from_lat</th>\n",
       "      <td>6</td>\n",
       "    </tr>\n",
       "    <tr>\n",
       "      <th>from_long</th>\n",
       "      <td>6</td>\n",
       "    </tr>\n",
       "    <tr>\n",
       "      <th>to_lat</th>\n",
       "      <td>858</td>\n",
       "    </tr>\n",
       "    <tr>\n",
       "      <th>to_long</th>\n",
       "      <td>858</td>\n",
       "    </tr>\n",
       "    <tr>\n",
       "      <th>Car_Cancellation</th>\n",
       "      <td>0</td>\n",
       "    </tr>\n",
       "  </tbody>\n",
       "</table>\n",
       "</div>"
      ],
      "text/plain": [
       "                       0\n",
       "id                     0\n",
       "user_id                0\n",
       "vehicle_model_id       0\n",
       "travel_type_id         0\n",
       "from_area_id           5\n",
       "to_area_id           858\n",
       "date_travel            0\n",
       "online_booking         0\n",
       "mobile_site_booking    0\n",
       "booking_created        0\n",
       "from_lat               6\n",
       "from_long              6\n",
       "to_lat               858\n",
       "to_long              858\n",
       "Car_Cancellation       0"
      ]
     },
     "execution_count": 128,
     "metadata": {},
     "output_type": "execute_result"
    }
   ],
   "source": [
    "pd.DataFrame(df.isna().sum())"
   ]
  },
  {
   "cell_type": "raw",
   "id": "cfbcb3ec-616d-4169-878f-b0cfb4336743",
   "metadata": {},
   "source": [
    "* Explanation:\n",
    "\n",
    "1. .fillna() → Replaces missing values.\n",
    "\n",
    "2. .mode() → Gets the most frequent value in the column."
   ]
  },
  {
   "cell_type": "markdown",
   "id": "fc2bf447-afbb-4c4a-9ba1-77d944cfbd65",
   "metadata": {},
   "source": [
    "# Concept:\n",
    "Machine learning models can’t directly work with NaN (missing values), so we fix or remove them."
   ]
  },
  {
   "cell_type": "code",
   "execution_count": 129,
   "id": "2daa5e3f-25d2-4f43-82af-d70b35835846",
   "metadata": {},
   "outputs": [],
   "source": [
    "# replace na by mean"
   ]
  },
  {
   "cell_type": "code",
   "execution_count": 130,
   "id": "eea45f7b-2d8f-429b-b1f5-06105ea1a83b",
   "metadata": {},
   "outputs": [],
   "source": [
    "df[\"to_area_id\"] = df[\"to_area_id\"].fillna(df[\"to_area_id\"].mean())\n",
    "df[\"to_lat\"] = df[\"to_lat\"].fillna(df[\"to_lat\"].mean())\n",
    "df[\"to_long\"] = df[\"to_long\"].fillna(df[\"to_long\"].mean())"
   ]
  },
  {
   "cell_type": "code",
   "execution_count": 131,
   "id": "a0a0eead-afcf-4e41-b84e-4e1028a82337",
   "metadata": {},
   "outputs": [
    {
     "data": {
      "text/plain": [
       "id                     0\n",
       "user_id                0\n",
       "vehicle_model_id       0\n",
       "travel_type_id         0\n",
       "from_area_id           5\n",
       "to_area_id             0\n",
       "date_travel            0\n",
       "online_booking         0\n",
       "mobile_site_booking    0\n",
       "booking_created        0\n",
       "from_lat               6\n",
       "from_long              6\n",
       "to_lat                 0\n",
       "to_long                0\n",
       "Car_Cancellation       0\n",
       "dtype: int64"
      ]
     },
     "execution_count": 131,
     "metadata": {},
     "output_type": "execute_result"
    }
   ],
   "source": [
    "df.isna().sum()"
   ]
  },
  {
   "cell_type": "code",
   "execution_count": 132,
   "id": "e1763297-bdf3-494f-9d32-3f39702d5b22",
   "metadata": {},
   "outputs": [],
   "source": [
    "df.dropna(inplace = True)"
   ]
  },
  {
   "cell_type": "code",
   "execution_count": 133,
   "id": "82c41f52-534e-405d-9425-e907820f53ec",
   "metadata": {},
   "outputs": [
    {
     "data": {
      "text/plain": [
       "id                     0\n",
       "user_id                0\n",
       "vehicle_model_id       0\n",
       "travel_type_id         0\n",
       "from_area_id           0\n",
       "to_area_id             0\n",
       "date_travel            0\n",
       "online_booking         0\n",
       "mobile_site_booking    0\n",
       "booking_created        0\n",
       "from_lat               0\n",
       "from_long              0\n",
       "to_lat                 0\n",
       "to_long                0\n",
       "Car_Cancellation       0\n",
       "dtype: int64"
      ]
     },
     "execution_count": 133,
     "metadata": {},
     "output_type": "execute_result"
    }
   ],
   "source": [
    "df.isna().sum()"
   ]
  },
  {
   "cell_type": "code",
   "execution_count": 134,
   "id": "92adae54-f4ae-44c7-aa92-06cc6fcb5c36",
   "metadata": {},
   "outputs": [
    {
     "data": {
      "image/png": "[encoded data removed]",
      "text/plain": [
       "<Figure size 640x480 with 1 Axes>"
      ]
     },
     "metadata": {},
     "output_type": "display_data"
    }
   ],
   "source": [
    "sns.countplot(x='Car_Cancellation', data=df)\n",
    "plt.title('Car Cancellation Counts')\n",
    "plt.xlabel('Car_Cancellation')\n",
    "plt.ylabel('Count')\n",
    "plt.tight_layout()\n",
    "plt.show()"
   ]
  },
  {
   "cell_type": "code",
   "execution_count": 135,
   "id": "aa34a856-79d6-459e-be6a-072f0e4af312",
   "metadata": {},
   "outputs": [],
   "source": [
    "df.drop(\"date_travel\", axis=1, inplace=True)"
   ]
  },
  {
   "cell_type": "code",
   "execution_count": 136,
   "id": "32a8cbf7-6bed-453b-9b4d-48abf430c345",
   "metadata": {},
   "outputs": [
    {
     "data": {
      "text/html": [
       "<div>\n",
       "<style scoped>\n",
       "    .dataframe tbody tr th:only-of-type {\n",
       "        vertical-align: middle;\n",
       "    }\n",
       "\n",
       "    .dataframe tbody tr th {\n",
       "        vertical-align: top;\n",
       "    }\n",
       "\n",
       "    .dataframe thead th {\n",
       "        text-align: right;\n",
       "    }\n",
       "</style>\n",
       "<table border=\"1\" class=\"dataframe\">\n",
       "  <thead>\n",
       "    <tr style=\"text-align: right;\">\n",
       "      <th></th>\n",
       "      <th>id</th>\n",
       "      <th>user_id</th>\n",
       "      <th>vehicle_model_id</th>\n",
       "      <th>travel_type_id</th>\n",
       "      <th>from_area_id</th>\n",
       "      <th>to_area_id</th>\n",
       "      <th>online_booking</th>\n",
       "      <th>mobile_site_booking</th>\n",
       "      <th>booking_created</th>\n",
       "      <th>from_lat</th>\n",
       "      <th>from_long</th>\n",
       "      <th>to_lat</th>\n",
       "      <th>to_long</th>\n",
       "      <th>Car_Cancellation</th>\n",
       "    </tr>\n",
       "  </thead>\n",
       "  <tbody>\n",
       "    <tr>\n",
       "      <th>0</th>\n",
       "      <td>149748</td>\n",
       "      <td>26873</td>\n",
       "      <td>12</td>\n",
       "      <td>2</td>\n",
       "      <td>1095.0</td>\n",
       "      <td>1061.0</td>\n",
       "      <td>1</td>\n",
       "      <td>0</td>\n",
       "      <td>5/17/2013 21:31</td>\n",
       "      <td>12.924150</td>\n",
       "      <td>77.672290</td>\n",
       "      <td>12.924878</td>\n",
       "      <td>77.566255</td>\n",
       "      <td>1</td>\n",
       "    </tr>\n",
       "    <tr>\n",
       "      <th>1</th>\n",
       "      <td>183456</td>\n",
       "      <td>33100</td>\n",
       "      <td>12</td>\n",
       "      <td>2</td>\n",
       "      <td>1226.0</td>\n",
       "      <td>1259.0</td>\n",
       "      <td>1</td>\n",
       "      <td>0</td>\n",
       "      <td>11/07/13 7:44</td>\n",
       "      <td>13.015080</td>\n",
       "      <td>77.677960</td>\n",
       "      <td>12.911942</td>\n",
       "      <td>77.651582</td>\n",
       "      <td>1</td>\n",
       "    </tr>\n",
       "    <tr>\n",
       "      <th>2</th>\n",
       "      <td>176071</td>\n",
       "      <td>41879</td>\n",
       "      <td>12</td>\n",
       "      <td>2</td>\n",
       "      <td>571.0</td>\n",
       "      <td>625.0</td>\n",
       "      <td>1</td>\n",
       "      <td>0</td>\n",
       "      <td>9/28/2013 15:50</td>\n",
       "      <td>12.951850</td>\n",
       "      <td>77.696420</td>\n",
       "      <td>12.954310</td>\n",
       "      <td>77.655300</td>\n",
       "      <td>1</td>\n",
       "    </tr>\n",
       "    <tr>\n",
       "      <th>3</th>\n",
       "      <td>182410</td>\n",
       "      <td>41512</td>\n",
       "      <td>12</td>\n",
       "      <td>2</td>\n",
       "      <td>1070.0</td>\n",
       "      <td>934.0</td>\n",
       "      <td>0</td>\n",
       "      <td>0</td>\n",
       "      <td>10/31/2013 12:13</td>\n",
       "      <td>12.926098</td>\n",
       "      <td>77.681121</td>\n",
       "      <td>12.923230</td>\n",
       "      <td>77.592030</td>\n",
       "      <td>1</td>\n",
       "    </tr>\n",
       "    <tr>\n",
       "      <th>4</th>\n",
       "      <td>183998</td>\n",
       "      <td>47731</td>\n",
       "      <td>12</td>\n",
       "      <td>2</td>\n",
       "      <td>142.0</td>\n",
       "      <td>393.0</td>\n",
       "      <td>1</td>\n",
       "      <td>0</td>\n",
       "      <td>11/10/13 21:50</td>\n",
       "      <td>12.912810</td>\n",
       "      <td>77.609230</td>\n",
       "      <td>13.199560</td>\n",
       "      <td>77.706880</td>\n",
       "      <td>1</td>\n",
       "    </tr>\n",
       "  </tbody>\n",
       "</table>\n",
       "</div>"
      ],
      "text/plain": [
       "       id  user_id  vehicle_model_id  travel_type_id  from_area_id  \\\n",
       "0  149748    26873                12               2        1095.0   \n",
       "1  183456    33100                12               2        1226.0   \n",
       "2  176071    41879                12               2         571.0   \n",
       "3  182410    41512                12               2        1070.0   \n",
       "4  183998    47731                12               2         142.0   \n",
       "\n",
       "   to_area_id  online_booking  mobile_site_booking   booking_created  \\\n",
       "0      1061.0               1                    0   5/17/2013 21:31   \n",
       "1      1259.0               1                    0     11/07/13 7:44   \n",
       "2       625.0               1                    0   9/28/2013 15:50   \n",
       "3       934.0               0                    0  10/31/2013 12:13   \n",
       "4       393.0               1                    0    11/10/13 21:50   \n",
       "\n",
       "    from_lat  from_long     to_lat    to_long  Car_Cancellation  \n",
       "0  12.924150  77.672290  12.924878  77.566255                 1  \n",
       "1  13.015080  77.677960  12.911942  77.651582                 1  \n",
       "2  12.951850  77.696420  12.954310  77.655300                 1  \n",
       "3  12.926098  77.681121  12.923230  77.592030                 1  \n",
       "4  12.912810  77.609230  13.199560  77.706880                 1  "
      ]
     },
     "execution_count": 136,
     "metadata": {},
     "output_type": "execute_result"
    }
   ],
   "source": [
    "df.head()"
   ]
  },
  {
   "cell_type": "code",
   "execution_count": 137,
   "id": "129f742a-2f21-4249-95ae-325baad0194b",
   "metadata": {},
   "outputs": [],
   "source": [
    "# Drop IDs (not useful for prediction)\n",
    "df = df.drop(['id', 'user_id'], axis=1)"
   ]
  },
  {
   "cell_type": "code",
   "execution_count": 155,
   "id": "19a0a068-ab1d-48ae-8c74-20a03945dff3",
   "metadata": {},
   "outputs": [
    {
     "name": "stdout",
     "output_type": "stream",
     "text": [
      "Car_Cancellation\n",
      "0    2995\n",
      "1    1999\n",
      "Name: count, dtype: int64\n",
      "\n",
      "Percentage distribution:\n",
      "Car_Cancellation\n",
      "0    59.971966\n",
      "1    40.028034\n",
      "Name: count, dtype: float64\n"
     ]
    }
   ],
   "source": [
    "## Checking if targeted variable is balanced or imbalanced\n",
    "\n",
    "# Count occurrences of each class\n",
    "class_counts = df['Car_Cancellation'].value_counts()\n",
    "\n",
    "# Print counts\n",
    "print(class_counts)\n",
    "\n",
    "# Print percentage distribution\n",
    "print(\"\\nPercentage distribution:\")\n",
    "print((class_counts / len(df)) * 100)"
   ]
  },
  {
   "cell_type": "code",
   "execution_count": 139,
   "id": "de1e4b10-e05a-465c-9022-df42117ad6ef",
   "metadata": {},
   "outputs": [
    {
     "name": "stdout",
     "output_type": "stream",
     "text": [
      "Index(['vehicle_model_id', 'travel_type_id', 'from_area_id', 'to_area_id',\n",
      "       'online_booking', 'mobile_site_booking', 'booking_created', 'from_lat',\n",
      "       'from_long', 'to_lat', 'to_long', 'Car_Cancellation'],\n",
      "      dtype='object')\n"
     ]
    }
   ],
   "source": [
    "# Check which columns still exist in the dataframe\n",
    "print(df.columns)"
   ]
  },
  {
   "cell_type": "code",
   "execution_count": 140,
   "id": "2dd093c9-40f1-4501-94f2-eea313a911c3",
   "metadata": {},
   "outputs": [],
   "source": [
    "# Keep only those categorical columns that are still present\n",
    "categorical_cols = [col for col in ['vehicle_model_id', 'travel_type_id', 'from_area_id', 'to_area_id'] if col in df.columns]"
   ]
  },
  {
   "cell_type": "code",
   "execution_count": 141,
   "id": "ca14aa4b-8c1d-4939-8683-fdb089f34e32",
   "metadata": {},
   "outputs": [],
   "source": [
    "# One-hot encoding safely\n",
    "df_encoded = pd.get_dummies(df, columns=categorical_cols, drop_first=True) "
   ]
  },
  {
   "cell_type": "raw",
   "id": "1e00df7c-34cc-46bd-a88a-411b9bd87d99",
   "metadata": {},
   "source": [
    "* Explanation:\n",
    "\n",
    "--> Categorical values (like region IDs) must be converted to numbers before feeding to ANN."
   ]
  },
  {
   "cell_type": "markdown",
   "id": "c0118dce-6124-4a85-b73a-229e026132c7",
   "metadata": {},
   "source": [
    "# Concept:\n",
    "Neural networks work with numbers — not words or categories."
   ]
  },
  {
   "cell_type": "code",
   "execution_count": 142,
   "id": "f2a4b69c-2bee-4f30-a835-64b151c41d0f",
   "metadata": {},
   "outputs": [
    {
     "name": "stdout",
     "output_type": "stream",
     "text": [
      "   online_booking  mobile_site_booking   booking_created   from_lat  \\\n",
      "0               1                    0   5/17/2013 21:31  12.924150   \n",
      "1               1                    0     11/07/13 7:44  13.015080   \n",
      "2               1                    0   9/28/2013 15:50  12.951850   \n",
      "3               0                    0  10/31/2013 12:13  12.926098   \n",
      "4               1                    0    11/10/13 21:50  12.912810   \n",
      "\n",
      "   from_long     to_lat    to_long  Car_Cancellation  vehicle_model_id_12  \\\n",
      "0  77.672290  12.924878  77.566255                 1                 True   \n",
      "1  77.677960  12.911942  77.651582                 1                 True   \n",
      "2  77.696420  12.954310  77.655300                 1                 True   \n",
      "3  77.681121  12.923230  77.592030                 1                 True   \n",
      "4  77.609230  13.199560  77.706880                 1                 True   \n",
      "\n",
      "   vehicle_model_id_14  ...  to_area_id_1388.0  to_area_id_1389.0  \\\n",
      "0                False  ...              False              False   \n",
      "1                False  ...              False              False   \n",
      "2                False  ...              False              False   \n",
      "3                False  ...              False              False   \n",
      "4                False  ...              False              False   \n",
      "\n",
      "   to_area_id_1390.0  to_area_id_1391.0  to_area_id_1393.0  to_area_id_1394.0  \\\n",
      "0              False              False              False              False   \n",
      "1              False              False              False              False   \n",
      "2              False              False              False              False   \n",
      "3              False              False              False              False   \n",
      "4              False              False              False              False   \n",
      "\n",
      "   to_area_id_1395.0  to_area_id_1398.0  to_area_id_1399.0  to_area_id_1403.0  \n",
      "0              False              False              False              False  \n",
      "1              False              False              False              False  \n",
      "2              False              False              False              False  \n",
      "3              False              False              False              False  \n",
      "4              False              False              False              False  \n",
      "\n",
      "[5 rows x 924 columns]\n",
      "Shape after encoding: (4994, 924)\n"
     ]
    }
   ],
   "source": [
    "print(df_encoded.head())\n",
    "print(\"Shape after encoding:\", df_encoded.shape)"
   ]
  },
  {
   "cell_type": "code",
   "execution_count": 119,
   "id": "31051caa-1c93-4952-86d1-401fe18d74dd",
   "metadata": {},
   "outputs": [],
   "source": [
    "df = df.drop(columns=['booking_created'],inplace = True)"
   ]
  },
  {
   "cell_type": "code",
   "execution_count": 143,
   "id": "5b4fef44-f3b3-4798-8a12-4872720e8c08",
   "metadata": {},
   "outputs": [],
   "source": [
    "# ---------------- Step 1: Drop datetime and target columns ----------------\n",
    "cols_to_drop = ['booking_created']  # replace with your actual datetime/string columns\n",
    "df = df.drop(columns=cols_to_drop, errors='ignore')"
   ]
  },
  {
   "cell_type": "code",
   "execution_count": 144,
   "id": "9d686570-b8f4-4e96-bf5a-54438a3b2f99",
   "metadata": {},
   "outputs": [],
   "source": [
    "# ---------------- Step 2: Separate features & target ----------------\n",
    "X = df.drop(columns=['Car_Cancellation'])\n",
    "y = df['Car_Cancellation']"
   ]
  },
  {
   "cell_type": "raw",
   "id": "6cbd0a93-4523-4272-93bb-357a4c359d64",
   "metadata": {},
   "source": [
    "* Explanation:\n",
    "\n",
    "1. X → Features used for prediction.\n",
    "\n",
    "2. y → Target (1 if cancellation happened, 0 otherwise)."
   ]
  },
  {
   "cell_type": "code",
   "execution_count": 145,
   "id": "4303cd14-e2dd-4acc-8b72-cdb6eb467276",
   "metadata": {},
   "outputs": [],
   "source": [
    "# ---------------- Step 3: Train-test split ----------------\n",
    "from sklearn.model_selection import train_test_split\n",
    "X_train, X_test, y_train, y_test = train_test_split(X, y, test_size=0.2, random_state=42)"
   ]
  },
  {
   "cell_type": "code",
   "execution_count": 146,
   "id": "dc72f23b-2fb9-43db-9cc1-31f8fd33c426",
   "metadata": {},
   "outputs": [],
   "source": [
    "# ---------------- Step 4: Scale numerical features ----------------\n",
    "from sklearn.preprocessing import StandardScaler\n",
    "scaler = StandardScaler()\n",
    "\n",
    "X_train_scaled = scaler.fit_transform(X_train)\n",
    "X_test_scaled = scaler.transform(X_test)"
   ]
  },
  {
   "cell_type": "raw",
   "id": "cd4db667-1dba-4eea-8581-5200052fc47b",
   "metadata": {},
   "source": [
    "# Explanation:\n",
    "\n",
    "--> Scaling → Makes all features have similar range (important for ANN so training is stable)."
   ]
  },
  {
   "cell_type": "code",
   "execution_count": 160,
   "id": "5f643f5c-c5eb-4586-aea9-13f61b389e39",
   "metadata": {},
   "outputs": [],
   "source": [
    "# ---------------- Step 5: ANN Model ----------------\n",
    "from tensorflow.keras.models import Sequential\n",
    "from tensorflow.keras.layers import Dense, Dropout\n",
    "from tensorflow.keras.optimizers import Adam\n",
    "\n",
    "model = Sequential([\n",
    "    Dense(64, activation='relu', input_shape=(X_train_scaled.shape[1],)),\n",
    "    Dropout(0.3),\n",
    "    Dense(32, activation='relu'),\n",
    "    Dropout(0.2),\n",
    "    Dense(1, activation='sigmoid')  # Binary classification\n",
    "])\n",
    "\n",
    "model.compile(optimizer=Adam(learning_rate=0.001),\n",
    "              loss='binary_crossentropy',\n",
    "              metrics=['accuracy'])\n",
    "\n",
    "import warnings\n",
    "warnings.filterwarnings(\"ignore\", category=UserWarning)\n"
   ]
  },
  {
   "cell_type": "raw",
   "id": "b83203aa-5062-4b24-848c-84a07ff785a6",
   "metadata": {},
   "source": [
    "# Explanation:\n",
    "\n",
    "1. Sequential() → A neural network that builds layer-by-layer.\n",
    "\n",
    "2. Dense(units, activation) → Creates fully connected layers.\n",
    "\n",
    "3. relu = Rectified Linear Unit (common hidden layer activation).\n",
    "\n",
    "4. sigmoid = For binary outputs (0 or 1).\n",
    "\n",
    "5. input_dim = Number of features we have."
   ]
  },
  {
   "cell_type": "markdown",
   "id": "c5656c4d-5e56-4e3a-bba4-ba656bb8276b",
   "metadata": {},
   "source": [
    "# Concept:\n",
    "ANN Structure in simple words:\n",
    "\n",
    "Input Layer → Gets all features.\n",
    "\n",
    "Hidden Layers → Detect patterns.\n",
    "\n",
    "Output Layer → Gives prediction (cancel or not)."
   ]
  },
  {
   "cell_type": "raw",
   "id": "f5f1b8cf-6625-4c10-b01f-22fb841ea80f",
   "metadata": {},
   "source": [
    "# Explanation:\n",
    "\n",
    "1. adam → A fast & adaptive optimization algorithm.\n",
    "\n",
    "2. binary_crossentropy → Loss function for binary classification.\n",
    "\n",
    "3. metrics=['accuracy'] → We’ll track accuracy during training."
   ]
  },
  {
   "cell_type": "code",
   "execution_count": 161,
   "id": "18000ed9-15b5-4aa0-b95c-be90f965053e",
   "metadata": {},
   "outputs": [
    {
     "name": "stdout",
     "output_type": "stream",
     "text": [
      "Epoch 1/20\n",
      "\u001b[1m125/125\u001b[0m \u001b[32m━━━━━━━━━━━━━━━━━━━━\u001b[0m\u001b[37m\u001b[0m \u001b[1m6s\u001b[0m 9ms/step - accuracy: 0.6586 - loss: 0.6112 - val_accuracy: 0.7057 - val_loss: 0.5646\n",
      "Epoch 2/20\n",
      "\u001b[1m125/125\u001b[0m \u001b[32m━━━━━━━━━━━━━━━━━━━━\u001b[0m\u001b[37m\u001b[0m \u001b[1m1s\u001b[0m 6ms/step - accuracy: 0.7074 - loss: 0.5671 - val_accuracy: 0.7177 - val_loss: 0.5609\n",
      "Epoch 3/20\n",
      "\u001b[1m125/125\u001b[0m \u001b[32m━━━━━━━━━━━━━━━━━━━━\u001b[0m\u001b[37m\u001b[0m \u001b[1m1s\u001b[0m 6ms/step - accuracy: 0.7174 - loss: 0.5628 - val_accuracy: 0.7207 - val_loss: 0.5582\n",
      "Epoch 4/20\n",
      "\u001b[1m125/125\u001b[0m \u001b[32m━━━━━━━━━━━━━━━━━━━━\u001b[0m\u001b[37m\u001b[0m \u001b[1m1s\u001b[0m 5ms/step - accuracy: 0.7186 - loss: 0.5629 - val_accuracy: 0.7197 - val_loss: 0.5589\n",
      "Epoch 5/20\n",
      "\u001b[1m125/125\u001b[0m \u001b[32m━━━━━━━━━━━━━━━━━━━━\u001b[0m\u001b[37m\u001b[0m \u001b[1m1s\u001b[0m 6ms/step - accuracy: 0.7149 - loss: 0.5560 - val_accuracy: 0.7157 - val_loss: 0.5583\n",
      "Epoch 6/20\n",
      "\u001b[1m125/125\u001b[0m \u001b[32m━━━━━━━━━━━━━━━━━━━━\u001b[0m\u001b[37m\u001b[0m \u001b[1m1s\u001b[0m 6ms/step - accuracy: 0.7289 - loss: 0.5443 - val_accuracy: 0.7197 - val_loss: 0.5573\n",
      "Epoch 7/20\n",
      "\u001b[1m125/125\u001b[0m \u001b[32m━━━━━━━━━━━━━━━━━━━━\u001b[0m\u001b[37m\u001b[0m \u001b[1m1s\u001b[0m 5ms/step - accuracy: 0.7302 - loss: 0.5449 - val_accuracy: 0.7217 - val_loss: 0.5584\n",
      "Epoch 8/20\n",
      "\u001b[1m125/125\u001b[0m \u001b[32m━━━━━━━━━━━━━━━━━━━━\u001b[0m\u001b[37m\u001b[0m \u001b[1m1s\u001b[0m 6ms/step - accuracy: 0.7229 - loss: 0.5469 - val_accuracy: 0.7207 - val_loss: 0.5577\n",
      "Epoch 9/20\n",
      "\u001b[1m125/125\u001b[0m \u001b[32m━━━━━━━━━━━━━━━━━━━━\u001b[0m\u001b[37m\u001b[0m \u001b[1m1s\u001b[0m 5ms/step - accuracy: 0.7322 - loss: 0.5460 - val_accuracy: 0.7257 - val_loss: 0.5562\n",
      "Epoch 10/20\n",
      "\u001b[1m125/125\u001b[0m \u001b[32m━━━━━━━━━━━━━━━━━━━━\u001b[0m\u001b[37m\u001b[0m \u001b[1m1s\u001b[0m 6ms/step - accuracy: 0.7292 - loss: 0.5412 - val_accuracy: 0.7217 - val_loss: 0.5567\n",
      "Epoch 11/20\n",
      "\u001b[1m125/125\u001b[0m \u001b[32m━━━━━━━━━━━━━━━━━━━━\u001b[0m\u001b[37m\u001b[0m \u001b[1m1s\u001b[0m 6ms/step - accuracy: 0.7287 - loss: 0.5469 - val_accuracy: 0.7267 - val_loss: 0.5563\n",
      "Epoch 12/20\n",
      "\u001b[1m125/125\u001b[0m \u001b[32m━━━━━━━━━━━━━━━━━━━━\u001b[0m\u001b[37m\u001b[0m \u001b[1m1s\u001b[0m 6ms/step - accuracy: 0.7309 - loss: 0.5397 - val_accuracy: 0.7207 - val_loss: 0.5577\n",
      "Epoch 13/20\n",
      "\u001b[1m125/125\u001b[0m \u001b[32m━━━━━━━━━━━━━━━━━━━━\u001b[0m\u001b[37m\u001b[0m \u001b[1m1s\u001b[0m 6ms/step - accuracy: 0.7347 - loss: 0.5422 - val_accuracy: 0.7247 - val_loss: 0.5554\n",
      "Epoch 14/20\n",
      "\u001b[1m125/125\u001b[0m \u001b[32m━━━━━━━━━━━━━━━━━━━━\u001b[0m\u001b[37m\u001b[0m \u001b[1m1s\u001b[0m 6ms/step - accuracy: 0.7317 - loss: 0.5368 - val_accuracy: 0.7297 - val_loss: 0.5545\n",
      "Epoch 15/20\n",
      "\u001b[1m125/125\u001b[0m \u001b[32m━━━━━━━━━━━━━━━━━━━━\u001b[0m\u001b[37m\u001b[0m \u001b[1m1s\u001b[0m 6ms/step - accuracy: 0.7319 - loss: 0.5361 - val_accuracy: 0.7247 - val_loss: 0.5552\n",
      "Epoch 16/20\n",
      "\u001b[1m125/125\u001b[0m \u001b[32m━━━━━━━━━━━━━━━━━━━━\u001b[0m\u001b[37m\u001b[0m \u001b[1m1s\u001b[0m 6ms/step - accuracy: 0.7352 - loss: 0.5364 - val_accuracy: 0.7287 - val_loss: 0.5546\n",
      "Epoch 17/20\n",
      "\u001b[1m125/125\u001b[0m \u001b[32m━━━━━━━━━━━━━━━━━━━━\u001b[0m\u001b[37m\u001b[0m \u001b[1m1s\u001b[0m 6ms/step - accuracy: 0.7367 - loss: 0.5357 - val_accuracy: 0.7277 - val_loss: 0.5529\n",
      "Epoch 18/20\n",
      "\u001b[1m125/125\u001b[0m \u001b[32m━━━━━━━━━━━━━━━━━━━━\u001b[0m\u001b[37m\u001b[0m \u001b[1m1s\u001b[0m 6ms/step - accuracy: 0.7329 - loss: 0.5330 - val_accuracy: 0.7267 - val_loss: 0.5539\n",
      "Epoch 19/20\n",
      "\u001b[1m125/125\u001b[0m \u001b[32m━━━━━━━━━━━━━━━━━━━━\u001b[0m\u001b[37m\u001b[0m \u001b[1m1s\u001b[0m 7ms/step - accuracy: 0.7349 - loss: 0.5395 - val_accuracy: 0.7227 - val_loss: 0.5520\n",
      "Epoch 20/20\n",
      "\u001b[1m125/125\u001b[0m \u001b[32m━━━━━━━━━━━━━━━━━━━━\u001b[0m\u001b[37m\u001b[0m \u001b[1m1s\u001b[0m 7ms/step - accuracy: 0.7322 - loss: 0.5373 - val_accuracy: 0.7247 - val_loss: 0.5522\n"
     ]
    }
   ],
   "source": [
    "# ---------------- Step 6: Train ----------------\n",
    "history = model.fit(X_train_scaled, y_train, \n",
    "                    validation_data=(X_test_scaled, y_test),\n",
    "                    epochs=20, \n",
    "                    batch_size=32, \n",
    "                    verbose=1)"
   ]
  },
  {
   "cell_type": "raw",
   "id": "a096d020-2c40-4a7b-b977-8bb29a73908a",
   "metadata": {},
   "source": [
    "# Explanation:\n",
    "\n",
    "1.batch_size = How many samples before updating the model.\n",
    "\n",
    "2.epochs = How many times we train over the dataset.\n",
    "\n",
    "3.validation_data = Checks performance on test set while training."
   ]
  },
  {
   "cell_type": "code",
   "execution_count": 162,
   "id": "bb4f96f6-b3b7-49d0-8dc8-205ff2b4a7b6",
   "metadata": {},
   "outputs": [
    {
     "name": "stdout",
     "output_type": "stream",
     "text": [
      "Test Accuracy: 0.7247\n"
     ]
    }
   ],
   "source": [
    "# ---------------- Step 7: Evaluate ----------------\n",
    "loss, acc = model.evaluate(X_test_scaled, y_test, verbose=0)\n",
    "print(f\"Test Accuracy: {acc:.4f}\")"
   ]
  },
  {
   "cell_type": "code",
   "execution_count": 163,
   "id": "d7cd1c55-79f6-4b52-a6ce-800b9132705c",
   "metadata": {},
   "outputs": [],
   "source": [
    "from sklearn.metrics import confusion_matrix, classification_report\n",
    "import matplotlib.pyplot as plt\n",
    "import seaborn as sns\n",
    "import numpy as np"
   ]
  },
  {
   "cell_type": "code",
   "execution_count": 164,
   "id": "e965cf51-67d8-48e0-83b9-51b49268294b",
   "metadata": {},
   "outputs": [
    {
     "name": "stdout",
     "output_type": "stream",
     "text": [
      "\u001b[1m32/32\u001b[0m \u001b[32m━━━━━━━━━━━━━━━━━━━━\u001b[0m\u001b[37m\u001b[0m \u001b[1m0s\u001b[0m 6ms/step\n"
     ]
    }
   ],
   "source": [
    "# ---------------- Step 1: Predictions ----------------\n",
    "y_pred_prob = model.predict(X_test_scaled)  # probabilities\n",
    "y_pred = (y_pred_prob > 0.5).astype(int)    # threshold at 0.5"
   ]
  },
  {
   "cell_type": "code",
   "execution_count": 165,
   "id": "8208e929-f023-45f3-9c88-e90827de3e85",
   "metadata": {},
   "outputs": [],
   "source": [
    "# ---------------- Step 2: Confusion Matrix ----------------\n",
    "cm = confusion_matrix(y_test, y_pred)"
   ]
  },
  {
   "cell_type": "code",
   "execution_count": 166,
   "id": "af891169-ec9a-4fcc-9916-0b9035a419ba",
   "metadata": {},
   "outputs": [
    {
     "data": {
      "image/png": "[encoded data removed]",
      "text/plain": [
       "<Figure size 500x400 with 1 Axes>"
      ]
     },
     "metadata": {},
     "output_type": "display_data"
    }
   ],
   "source": [
    "# ---------------- Step 3: Plot ----------------\n",
    "plt.figure(figsize=(5,4))\n",
    "sns.heatmap(cm, annot=True, fmt='d', cmap='Blues', cbar=False,\n",
    "            xticklabels=['No Cancellation', 'Cancellation'],\n",
    "            yticklabels=['No Cancellation', 'Cancellation'])\n",
    "plt.xlabel('Predicted')\n",
    "plt.ylabel('Actual')\n",
    "plt.title('Confusion Matrix')\n",
    "plt.tight_layout()\n",
    "plt.show()"
   ]
  },
  {
   "cell_type": "raw",
   "id": "9c23b056-5616-4165-81d4-4b6b356669a5",
   "metadata": {},
   "source": [
    "#Definitions:\n",
    "\n",
    "1.TP (True Positive): Model predicted 1, and it’s actually 1.\n",
    "\n",
    "2.TN (True Negative): Model predicted 0, and it’s actually 0.\n",
    "\n",
    "3.FP (False Positive): Model predicted 1, but it’s actually 0 (Type I error).\n",
    "\n",
    "4.FN (False Negative): Model predicted 0, but it’s actually 1 (Type II error)."
   ]
  },
  {
   "cell_type": "code",
   "execution_count": 167,
   "id": "ca4d32e8-847e-477b-8a81-02f5d8f383d8",
   "metadata": {},
   "outputs": [
    {
     "name": "stdout",
     "output_type": "stream",
     "text": [
      "\n",
      "Classification Report:\n",
      "               precision    recall  f1-score   support\n",
      "\n",
      "           0       0.75      0.79      0.77       586\n",
      "           1       0.68      0.63      0.65       413\n",
      "\n",
      "    accuracy                           0.72       999\n",
      "   macro avg       0.72      0.71      0.71       999\n",
      "weighted avg       0.72      0.72      0.72       999\n",
      "\n"
     ]
    }
   ],
   "source": [
    "# ---------------- Step 4: Metrics ----------------\n",
    "print(\"\\nClassification Report:\\n\", classification_report(y_test, y_pred))"
   ]
  },
  {
   "cell_type": "raw",
   "id": "2c3284ca-df03-4cde-9806-f4c05437ae7b",
   "metadata": {},
   "source": [
    "# Precision --> Correctness of predicted positives\n",
    "# recall --> How many actual positives were found\n",
    "# F1-Score --> Harmonic mean of precision and recall → balances both metrics.\n",
    "# Accuracy --> Overall correctness of the model"
   ]
  },
  {
   "cell_type": "raw",
   "id": "6d2364c5-a2f7-4cff-9e9d-f5fb43cf0b2e",
   "metadata": {},
   "source": [
    "-->Confusion matrix: shows correct & incorrect predictions.\n",
    "\n",
    "-->Macro avg: simple mean of metrics across classes (ignore size).\n",
    "\n",
    "-->Weighted avg: mean weighted by class size (takes support into account)."
   ]
  },
  {
   "cell_type": "code",
   "execution_count": 156,
   "id": "125d6906-868f-4fc1-9f46-6a7ee3d6ccbf",
   "metadata": {},
   "outputs": [],
   "source": [
    "## error metrics"
   ]
  },
  {
   "cell_type": "code",
   "execution_count": 157,
   "id": "ea090f0e-ab26-4de0-ae5e-3b3af211e70e",
   "metadata": {},
   "outputs": [
    {
     "data": {
      "text/html": [
       "<div>\n",
       "<style scoped>\n",
       "    .dataframe tbody tr th:only-of-type {\n",
       "        vertical-align: middle;\n",
       "    }\n",
       "\n",
       "    .dataframe tbody tr th {\n",
       "        vertical-align: top;\n",
       "    }\n",
       "\n",
       "    .dataframe thead th {\n",
       "        text-align: right;\n",
       "    }\n",
       "</style>\n",
       "<table border=\"1\" class=\"dataframe\">\n",
       "  <thead>\n",
       "    <tr style=\"text-align: right;\">\n",
       "      <th></th>\n",
       "      <th>accuracy</th>\n",
       "      <th>loss</th>\n",
       "      <th>val_accuracy</th>\n",
       "      <th>val_loss</th>\n",
       "    </tr>\n",
       "  </thead>\n",
       "  <tbody>\n",
       "    <tr>\n",
       "      <th>0</th>\n",
       "      <td>0.651064</td>\n",
       "      <td>0.623965</td>\n",
       "      <td>0.697698</td>\n",
       "      <td>0.573333</td>\n",
       "    </tr>\n",
       "    <tr>\n",
       "      <th>1</th>\n",
       "      <td>0.707635</td>\n",
       "      <td>0.573414</td>\n",
       "      <td>0.709710</td>\n",
       "      <td>0.559607</td>\n",
       "    </tr>\n",
       "    <tr>\n",
       "      <th>2</th>\n",
       "      <td>0.720401</td>\n",
       "      <td>0.563292</td>\n",
       "      <td>0.713714</td>\n",
       "      <td>0.559043</td>\n",
       "    </tr>\n",
       "    <tr>\n",
       "      <th>3</th>\n",
       "      <td>0.719650</td>\n",
       "      <td>0.561646</td>\n",
       "      <td>0.705706</td>\n",
       "      <td>0.557325</td>\n",
       "    </tr>\n",
       "    <tr>\n",
       "      <th>4</th>\n",
       "      <td>0.718398</td>\n",
       "      <td>0.553174</td>\n",
       "      <td>0.716717</td>\n",
       "      <td>0.557687</td>\n",
       "    </tr>\n",
       "    <tr>\n",
       "      <th>5</th>\n",
       "      <td>0.726158</td>\n",
       "      <td>0.554010</td>\n",
       "      <td>0.713714</td>\n",
       "      <td>0.554994</td>\n",
       "    </tr>\n",
       "    <tr>\n",
       "      <th>6</th>\n",
       "      <td>0.724656</td>\n",
       "      <td>0.546748</td>\n",
       "      <td>0.716717</td>\n",
       "      <td>0.555986</td>\n",
       "    </tr>\n",
       "    <tr>\n",
       "      <th>7</th>\n",
       "      <td>0.733667</td>\n",
       "      <td>0.545370</td>\n",
       "      <td>0.724725</td>\n",
       "      <td>0.553408</td>\n",
       "    </tr>\n",
       "    <tr>\n",
       "      <th>8</th>\n",
       "      <td>0.728911</td>\n",
       "      <td>0.545323</td>\n",
       "      <td>0.721722</td>\n",
       "      <td>0.553029</td>\n",
       "    </tr>\n",
       "    <tr>\n",
       "      <th>9</th>\n",
       "      <td>0.729161</td>\n",
       "      <td>0.545685</td>\n",
       "      <td>0.724725</td>\n",
       "      <td>0.553529</td>\n",
       "    </tr>\n",
       "    <tr>\n",
       "      <th>10</th>\n",
       "      <td>0.731915</td>\n",
       "      <td>0.541206</td>\n",
       "      <td>0.720721</td>\n",
       "      <td>0.554509</td>\n",
       "    </tr>\n",
       "    <tr>\n",
       "      <th>11</th>\n",
       "      <td>0.735169</td>\n",
       "      <td>0.539871</td>\n",
       "      <td>0.719720</td>\n",
       "      <td>0.551646</td>\n",
       "    </tr>\n",
       "    <tr>\n",
       "      <th>12</th>\n",
       "      <td>0.733917</td>\n",
       "      <td>0.541205</td>\n",
       "      <td>0.720721</td>\n",
       "      <td>0.553493</td>\n",
       "    </tr>\n",
       "    <tr>\n",
       "      <th>13</th>\n",
       "      <td>0.733917</td>\n",
       "      <td>0.538407</td>\n",
       "      <td>0.721722</td>\n",
       "      <td>0.553191</td>\n",
       "    </tr>\n",
       "    <tr>\n",
       "      <th>14</th>\n",
       "      <td>0.731414</td>\n",
       "      <td>0.539533</td>\n",
       "      <td>0.720721</td>\n",
       "      <td>0.553863</td>\n",
       "    </tr>\n",
       "    <tr>\n",
       "      <th>15</th>\n",
       "      <td>0.736421</td>\n",
       "      <td>0.535012</td>\n",
       "      <td>0.725726</td>\n",
       "      <td>0.552523</td>\n",
       "    </tr>\n",
       "    <tr>\n",
       "      <th>16</th>\n",
       "      <td>0.730163</td>\n",
       "      <td>0.533136</td>\n",
       "      <td>0.724725</td>\n",
       "      <td>0.551542</td>\n",
       "    </tr>\n",
       "    <tr>\n",
       "      <th>17</th>\n",
       "      <td>0.730663</td>\n",
       "      <td>0.532664</td>\n",
       "      <td>0.720721</td>\n",
       "      <td>0.555407</td>\n",
       "    </tr>\n",
       "    <tr>\n",
       "      <th>18</th>\n",
       "      <td>0.739675</td>\n",
       "      <td>0.535553</td>\n",
       "      <td>0.722723</td>\n",
       "      <td>0.553696</td>\n",
       "    </tr>\n",
       "    <tr>\n",
       "      <th>19</th>\n",
       "      <td>0.735419</td>\n",
       "      <td>0.535957</td>\n",
       "      <td>0.722723</td>\n",
       "      <td>0.551677</td>\n",
       "    </tr>\n",
       "  </tbody>\n",
       "</table>\n",
       "</div>"
      ],
      "text/plain": [
       "    accuracy      loss  val_accuracy  val_loss\n",
       "0   0.651064  0.623965      0.697698  0.573333\n",
       "1   0.707635  0.573414      0.709710  0.559607\n",
       "2   0.720401  0.563292      0.713714  0.559043\n",
       "3   0.719650  0.561646      0.705706  0.557325\n",
       "4   0.718398  0.553174      0.716717  0.557687\n",
       "5   0.726158  0.554010      0.713714  0.554994\n",
       "6   0.724656  0.546748      0.716717  0.555986\n",
       "7   0.733667  0.545370      0.724725  0.553408\n",
       "8   0.728911  0.545323      0.721722  0.553029\n",
       "9   0.729161  0.545685      0.724725  0.553529\n",
       "10  0.731915  0.541206      0.720721  0.554509\n",
       "11  0.735169  0.539871      0.719720  0.551646\n",
       "12  0.733917  0.541205      0.720721  0.553493\n",
       "13  0.733917  0.538407      0.721722  0.553191\n",
       "14  0.731414  0.539533      0.720721  0.553863\n",
       "15  0.736421  0.535012      0.725726  0.552523\n",
       "16  0.730163  0.533136      0.724725  0.551542\n",
       "17  0.730663  0.532664      0.720721  0.555407\n",
       "18  0.739675  0.535553      0.722723  0.553696\n",
       "19  0.735419  0.535957      0.722723  0.551677"
      ]
     },
     "execution_count": 157,
     "metadata": {},
     "output_type": "execute_result"
    }
   ],
   "source": [
    "pd.DataFrame(history.history)"
   ]
  },
  {
   "cell_type": "markdown",
   "id": "3d09f5ad-891e-4094-b7cf-b65a4d13953a",
   "metadata": {},
   "source": [
    "# Conclusion (In Simple Words)\n",
    "You now have a system that, after seeing previous booking data, can look at upcoming bookings and predict if a customer is likely to cancel.\n",
    "\n",
    "The analysis teaches you how to prepare data properly, build a neural network, train it, and check if it works—so you can make business decisions or send reminders to likely-to-cancel customers."
   ]
  },
  {
   "cell_type": "code",
   "execution_count": null,
   "id": "9e6bd9d4-c65d-4d9d-bce3-8efcffd1cc5e",
   "metadata": {},
   "outputs": [],
   "source": []
  }
 ],
 "metadata": {
  "kernelspec": {
   "display_name": "Python 3 (ipykernel)",
   "language": "python",
   "name": "python3"
  },
  "language_info": {
   "codemirror_mode": {
    "name": "ipython",
    "version": 3
   },
   "file_extension": ".py",
   "mimetype": "text/x-python",
   "name": "python",
   "nbconvert_exporter": "python",
   "pygments_lexer": "ipython3",
   "version": "3.13.5"
  }
 },
 "nbformat": 4,
 "nbformat_minor": 5
}
